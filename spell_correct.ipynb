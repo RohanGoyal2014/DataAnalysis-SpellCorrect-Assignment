{
 "cells": [
  {
   "cell_type": "code",
   "execution_count": 3,
   "metadata": {},
   "outputs": [],
   "source": [
    "f = open('big.txt')\n",
    "worddata = f.read()"
   ]
  },
  {
   "cell_type": "code",
   "execution_count": 4,
   "metadata": {},
   "outputs": [],
   "source": [
    "def filter_func(x):\n",
    "    if x.isalpha():\n",
    "        return x.lower()\n",
    "    else:\n",
    "        return ' '\n",
    "worddata = list(map(filter_func,worddata))\n",
    "worddata = \"\".join(worddata).split(' ')\n",
    "# worddata"
   ]
  },
  {
   "cell_type": "code",
   "execution_count": 5,
   "metadata": {},
   "outputs": [],
   "source": [
    "words = dict()\n",
    "for word in worddata:\n",
    "    if word not in words:\n",
    "        words[word]=0\n",
    "    words[word]+=1"
   ]
  },
  {
   "cell_type": "code",
   "execution_count": 6,
   "metadata": {},
   "outputs": [],
   "source": [
    "import re\n",
    "from collections import Counter\n",
    "\n",
    "def edits1(word):\n",
    "    \"All edits that are one edit away from `word`.\"\n",
    "    letters    = 'abcdefghijklmnopqrstuvwxyz'\n",
    "    splits     = [(word[:i], word[i:])    for i in range(len(word) + 1)]\n",
    "    deletes    = [L + R[1:]               for L, R in splits if R]\n",
    "    transposes = [L + R[1] + R[0] + R[2:] for L, R in splits if len(R)>1]\n",
    "    replaces   = [L + c + R[1:]           for L, R in splits if R for c in letters]\n",
    "    inserts    = [L + c + R               for L, R in splits for c in letters]\n",
    "    return set(deletes + transposes + replaces + inserts)\n",
    "\n",
    "def edits2(word): \n",
    "    \"All edits that are two edits away from `word`.\"\n",
    "    return (e2 for e1 in edits1(word) for e2 in edits1(e1))"
   ]
  },
  {
   "cell_type": "code",
   "execution_count": 8,
   "metadata": {},
   "outputs": [
    {
     "name": "stdout",
     "output_type": "stream",
     "text": [
      "Enter the word to correct:numbr\n",
      "The suggested corrected word is: number\n"
     ]
    }
   ],
   "source": [
    "inpword = input('Enter the word to correct:')\n",
    "if inpword in words:\n",
    "    print('The correct match is:',inpword)\n",
    "else:\n",
    "    suggestions1 = set(edits1(inpword))\n",
    "    suggestions2 = set(edits2(inpword))\n",
    "    findings = []\n",
    "    max_freq_sugg = \"\"\n",
    "    for sugg in suggestions1:\n",
    "        if sugg in words:\n",
    "            findings.append(sugg)\n",
    "            if max_freq_sugg==\"\":\n",
    "                max_freq_sugg = sugg\n",
    "            else:\n",
    "                if words[sugg]>words[max_freq_sugg]:\n",
    "                    max_freq_sugg = sugg\n",
    "    if len(findings) == 0:\n",
    "        for sugg in suggestions2:\n",
    "            if sugg in words:\n",
    "                findings.append(sugg)\n",
    "                if max_freq_sugg==\"\":\n",
    "                    max_freq_sugg = sugg\n",
    "                else:\n",
    "                    if words[sugg]>words[max_freq_sugg]:\n",
    "                        max_freq_sugg = sugg\n",
    "        if len(findings) == 0:\n",
    "            print(\"No suggestions found...\")\n",
    "        else:\n",
    "            print('The suggested corrected word is:',max_freq_sugg)\n",
    "    else:\n",
    "        print('The suggested corrected word is:',max_freq_sugg)"
   ]
  },
  {
   "cell_type": "code",
   "execution_count": 56,
   "metadata": {},
   "outputs": [
    {
     "name": "stdout",
     "output_type": "stream",
     "text": [
      "Following are the suggestions:\n",
      "['rumor', 'humor', 'lumber', 'dumb', 'number', 'numb', 'numbers']\n"
     ]
    }
   ],
   "source": []
  },
  {
   "cell_type": "code",
   "execution_count": 57,
   "metadata": {},
   "outputs": [
    {
     "name": "stdout",
     "output_type": "stream",
     "text": [
      "Closest suggestion is: lumber\n"
     ]
    }
   ],
   "source": [
    "print('Closest suggestion is:',max_freq_sugg)"
   ]
  },
  {
   "cell_type": "code",
   "execution_count": null,
   "metadata": {},
   "outputs": [],
   "source": []
  }
 ],
 "metadata": {
  "kernelspec": {
   "display_name": "Python 3",
   "language": "python",
   "name": "python3"
  },
  "language_info": {
   "codemirror_mode": {
    "name": "ipython",
    "version": 3
   },
   "file_extension": ".py",
   "mimetype": "text/x-python",
   "name": "python",
   "nbconvert_exporter": "python",
   "pygments_lexer": "ipython3",
   "version": "3.7.3"
  }
 },
 "nbformat": 4,
 "nbformat_minor": 2
}
